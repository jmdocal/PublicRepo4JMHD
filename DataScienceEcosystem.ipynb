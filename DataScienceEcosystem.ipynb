{
 "cells": [
  {
   "cell_type": "markdown",
   "id": "01651f69-518a-4c8f-a58a-acb4e5b7f3ba",
   "metadata": {},
   "source": [
    "# Data Science Tools and Ecosystem"
   ]
  },
  {
   "cell_type": "markdown",
   "id": "efd6dc64-d44c-43a2-9878-891e21e81ce3",
   "metadata": {},
   "source": [
    "**In this notebook, Data Science Tools and Ecosystem are summarized.**"
   ]
  },
  {
   "cell_type": "markdown",
   "id": "184a1de7-b186-432c-b49c-48f3a6260f83",
   "metadata": {},
   "source": [
    "**Objectives:**\n",
    "* List the most popular programming languages for Data Scientists\n",
    "* What are the most common libraries used by Data Scientists\n",
    "* Examples of using arithmetic expressions\n",
    "* Markdown expressions\n",
    "* How to handle cells in a Jupyter Notebook"
   ]
  },
  {
   "cell_type": "markdown",
   "id": "55bc3ae3-fc96-4359-83a6-5ffaf1264f30",
   "metadata": {},
   "source": [
    "_Some of the popular languages that Data Scientists use are:_\n",
    "1. Python\n",
    "1. R\n",
    "1. SQL\n",
    "1. Java\n",
    "1. C++\n",
    "\n",
    "and others."
   ]
  },
  {
   "cell_type": "markdown",
   "id": "f5f6aea8-2504-4b1d-b243-4f9b2dfc4e85",
   "metadata": {},
   "source": [
    "_Some of the commonly used libraries used by Data Scientists include:_\n",
    "1. NumPy\n",
    "1. Pandas\n",
    "1. Matplotlib\n",
    "1. Scikit-learn\n",
    "1. SciPy\n",
    "1. TensorFlow\n",
    "\n",
    "all of them available in Python.\n",
    "\n",
    "The next set of libraries are useful for Data Scientists in R:\n",
    "\n",
    "1. dplyr\n",
    "1. ggplot2\n",
    "1. string\n",
    "1. caret\n",
    "\n"
   ]
  },
  {
   "cell_type": "markdown",
   "id": "43bac612-b37e-4f7e-adb5-e294de09b209",
   "metadata": {},
   "source": [
    "| Data Science Tools | Type |\n",
    "|--------------------|------|\n",
    "| Pythong | Programming Language |\n",
    "| R | Programming Language |\n",
    "| Jupyter Notebook | IDE |\n",
    "| RStudio | IDE |\n",
    "| Watson Studio | DS Platform |\n",
    "| Apache Hadoop | Big Data |\n",
    "| Apache Spark | Big Data |\n",
    "| SQL | Data base Manager |\n",
    "| NoSQL | Data base Manager |\n",
    "| Docket | Deployment |\n",
    "| Kubernetes | Deployment |\n"
   ]
  },
  {
   "cell_type": "markdown",
   "id": "5f724985-0171-4ab6-9b9d-2ef9ea625131",
   "metadata": {
    "tags": []
   },
   "source": [
    "### Below are a few examples of evaluating arithmetic expressions in Python\n",
    "\n",
    "Every following expression must be included into a \"code\" cell and executed subsequently:\n",
    "\n",
    "3 + 5 will result 8 after execution\n",
    "\n",
    "12 * 2 will be 24\n",
    "\n",
    "or\n",
    "\n",
    "7 / 3 = 2.33333333333\n",
    "\n",
    "and so on..."
   ]
  },
  {
   "cell_type": "code",
   "execution_count": 1,
   "id": "8eab1475-38e2-43f8-839d-21fd8820713a",
   "metadata": {},
   "outputs": [
    {
     "data": {
      "text/plain": [
       "17"
      ]
     },
     "execution_count": 1,
     "metadata": {},
     "output_type": "execute_result"
    }
   ],
   "source": [
    "# This a simple arithmetic expression to mutiply then add integers\n",
    "(3*4)+5"
   ]
  },
  {
   "cell_type": "code",
   "execution_count": 4,
   "id": "6aaf2169-bce0-492a-a9d0-4ce40a8f8583",
   "metadata": {},
   "outputs": [
    {
     "name": "stdout",
     "output_type": "stream",
     "text": [
      "200 minutes are  3.3333333333333335  hours\n"
     ]
    }
   ],
   "source": [
    " # This will convert 200 minutes to hours by diving by 60\n",
    "    \n",
    "m = 200 / 60\n",
    "\n",
    "print(\"200 minutes are \",m,\" hours\")"
   ]
  },
  {
   "cell_type": "markdown",
   "id": "1f0e3711-dcdb-427e-8277-84490f74d85e",
   "metadata": {},
   "source": [
    "***\n",
    "## Author:\n",
    "José Miguel Hernández Docal"
   ]
  },
  {
   "cell_type": "code",
   "execution_count": null,
   "id": "253a88dc-9c8e-49c1-b115-844f19aa01dc",
   "metadata": {},
   "outputs": [],
   "source": []
  }
 ],
 "metadata": {
  "kernelspec": {
   "display_name": "Python 3 (ipykernel)",
   "language": "python",
   "name": "python3"
  },
  "language_info": {
   "codemirror_mode": {
    "name": "ipython",
    "version": 3
   },
   "file_extension": ".py",
   "mimetype": "text/x-python",
   "name": "python",
   "nbconvert_exporter": "python",
   "pygments_lexer": "ipython3",
   "version": "3.10.9"
  }
 },
 "nbformat": 4,
 "nbformat_minor": 5
}
